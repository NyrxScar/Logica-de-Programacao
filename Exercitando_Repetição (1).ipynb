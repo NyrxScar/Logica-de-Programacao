{
  "nbformat": 4,
  "nbformat_minor": 0,
  "metadata": {
    "colab": {
      "provenance": []
    },
    "kernelspec": {
      "name": "python3",
      "display_name": "Python 3"
    },
    "language_info": {
      "name": "python"
    }
  },
  "cells": [
    {
      "cell_type": "code",
      "execution_count": null,
      "metadata": {
        "colab": {
          "base_uri": "https://localhost:8080/"
        },
        "id": "VcKRsTqpnhK4",
        "outputId": "f8a110f0-9ebf-4ab0-f108-ca07b228ae82"
      },
      "outputs": [
        {
          "output_type": "stream",
          "name": "stdout",
          "text": [
            "\n",
            "1° - O número 1 é ímpar\n",
            "2° - O número 2 é par\n",
            "\n",
            "3° - O número 3 é ímpar\n",
            "4° - O número 4 é par\n",
            "\n",
            "5° - O número 5 é ímpar\n"
          ]
        }
      ],
      "source": [
        "contador = 0\n",
        "contadorPosicao = 1\n",
        "\n",
        "while contador < 5:\n",
        "  contador+=1\n",
        "  if contador % 2 == 0:\n",
        "    print(f\"{contadorPosicao}° - O número {contador} é par\")\n",
        "  else:\n",
        "    print(f\"\\n{contadorPosicao}° - O número {contador} é ímpar\")\n",
        "  while contadorPosicao <= contador:\n",
        "    contadorPosicao+=1"
      ]
    },
    {
      "cell_type": "markdown",
      "source": [
        " **Algoritmo 1:** Repetição de Senha com Validação (while)\n",
        "Problema: Peça uma senha ao usuário e só libere o acesso quando a senha correta for\n",
        "digitada.\n",
        "Senha correta: 1234\n",
        " Dica: use while e compare a entrada com a senha correta."
      ],
      "metadata": {
        "id": "ZniX8EyE6Plw"
      }
    },
    {
      "cell_type": "code",
      "source": [
        "senha = input(\"Digite a senha:\")\n",
        "while senha != \"1234\":\n",
        "  print(\"Senha incorreta\")\n",
        "  senha = input(\"Digite a senha:\")\n",
        "print(\"Você logou com sucesso\")\n"
      ],
      "metadata": {
        "id": "Rrsy4Npc6cQm"
      },
      "execution_count": null,
      "outputs": []
    },
    {
      "cell_type": "markdown",
      "source": [
        "**Algoritmo 2:** Soma de N (número variável de vezes) produtos (for)\n",
        "Problema: Solicite a quantidade de produtos e depois peça o valor de cada um.\n",
        "Calcule o total da compra.\n",
        " Dica: use for com range() e uma variável para acumular os valores digitados"
      ],
      "metadata": {
        "id": "sSJoZqZL96IZ"
      }
    },
    {
      "cell_type": "code",
      "source": [
        "\n",
        "qnt_produtos = int(input(\"Digite a quantidade de Produtos: \"))\n",
        "posicao = 0\n",
        "soma = float(0)\n",
        "valor_produtos = []\n",
        "for i in range(qnt_produtos):\n",
        "    posicao+=1\n",
        "    valor_produtos = float(input(\"Digite o Valor do Produto: \"))\n",
        "    print(f\"{posicao}° Produto -  R$ {valor_produtos:.2f}\")\n",
        "    soma += valor_produtos\n",
        "\n",
        "while i <= qnt_produtos:\n",
        "    print(f\"O total do valor dos produtos é: {soma:.2f}\")\n",
        "    break\n",
        "\n"
      ],
      "metadata": {
        "colab": {
          "base_uri": "https://localhost:8080/"
        },
        "id": "CXCiG2Gw99l4",
        "outputId": "9f908be8-8dde-41d8-e050-7578fa114b6c"
      },
      "execution_count": null,
      "outputs": [
        {
          "output_type": "stream",
          "name": "stdout",
          "text": [
            "Digite a quantidade de Produtos: 2\n",
            "Digite o Valor do Produto: 12\n",
            "1° Produto -  R$ 12.00\n",
            "Digite o Valor do Produto: 3.3123\n",
            "2° Produto -  R$ 3.31\n",
            "O total do valor dos produtos é: 15.31\n"
          ]
        }
      ]
    },
    {
      "cell_type": "markdown",
      "source": [
        "**Algoritmo 3:** Cálculos matemáticos (while)\n",
        "Problema: dois valores devem ser digitados um número indefinido de vezes. Parar a execução quando pelo menos um dos números digitados for igual a zero.\n",
        "A cada vez que a repetição é executada, calcular e escrever na tela as operações abaixo:\n",
        "  \n",
        "*   Soma dos dois números;\n",
        "*   Diferença entre os dois números;\n",
        "*   Multiplicação entre os dois números;\n",
        "*   Divisão do primeiro número pelo segundo;\n",
        "*   Potenciação, sendo o primeiro a base e o segundo a potência;\n",
        "*   Raiz quadrada do primeiro número; resto da divisão do primeiro pelo  segundo número; E se o primeiro número é divisível pelo segundo\n",
        "\n",
        " Dica: use while para repetir e validar se pelo menos um dos números for igual a zero"
      ],
      "metadata": {
        "id": "SFsqA2Y5A3lb"
      }
    },
    {
      "cell_type": "code",
      "source": [
        "import math\n",
        "\n",
        "number1 = float(input(\"Digite o primeiro valor: \"))\n",
        "number2 = float(input(\"Digite o segundo valor: \"))\n",
        "soma = number1+number2\n",
        "diferenca = number1-number2\n",
        "multiplicacao = number1*number2\n",
        "potenciacao = number1**number2\n",
        "raiz = math.sqrt(number1)\n",
        "\n",
        "# while (number1 == 0) or (number2 == 0) or (number2 and number1) == 0:\n",
        "#     print(\"Pelo menos um dos números é 0\\nExecução finalizada \")\n",
        "#     break\n",
        "#     if (number1 != 0) or (number2 != 0):\n",
        "#       print(f\"Soma: {soma}\", f\"Subtração: {diferenca}\", f\"Multiplicacao: {multiplicacao}\", f\"Divisao: {divisao:.2f}\",  f\"Potenciacao: {potenciacao}\",f\"Raiz: {raiz:.2f}\",f\"Resto: {resto}\" )\n",
        "#       break\n",
        "\n",
        "\n",
        "\n",
        "# number1 = int(input(\"Digite o primeiro número: \"))\n",
        "# number2 = int(input(\"Digite o segundo número: \"))\n",
        "\n",
        "# soma = number1 + number2\n",
        "# diferenca = number1 - number2\n",
        "# multiplicacao = number1 * number2\n",
        "# potenciacao = number1 ** 2\n",
        "# raiz = number1 ** 0.5\n",
        "\n",
        "# while True:\n",
        "#     if number1 == 0 or number2 == 0:\n",
        "#         print(\"Pelo menos um dos números é 0\\nExecução finalizada\")\n",
        "#         break\n",
        "#     else:\n",
        "#         divisao = number1 / number2\n",
        "#         resto = number1 % number2\n",
        "#         print(f\"Soma: {soma}\",\n",
        "#               f\"Subtração: {diferenca}\",\n",
        "#               f\"Multiplicacao: {multiplicacao}\",\n",
        "#               f\"Divisao: {divisao:.2f}\",\n",
        "#               f\"Potenciacao: {potenciacao}\",\n",
        "#               f\"Raiz: {raiz:.2f}\",\n",
        "#               f\"Resto: {resto}\")\n",
        "#         break\n",
        "\n",
        "\n",
        "\n",
        "# Entrada de dados\n",
        "number1 = int(input(\"Digite o primeiro número: \"))\n",
        "number2 = int(input(\"Digite o segundo número: \"))\n",
        "\n",
        "soma = number1 + number2\n",
        "diferenca = number1 - number2\n",
        "multiplicacao = number1 * number2\n",
        "potenciacao = number1 ** 2\n",
        "raiz = number1 ** 0.5\n",
        "\n",
        "while True:\n",
        "    if number1 == 0 or number2 == 0:\n",
        "        print(\"Pelo menos um dos números é 0\\nExecução finalizada\")\n",
        "        break\n",
        "    else:\n",
        "        divisao = number1 / number2\n",
        "        resto = number1 % number2\n",
        "        print(f\"Soma: {soma}\",\n",
        "              f\"Subtração: {diferenca}\",\n",
        "              f\"Multiplicacao: {multiplicacao}\",\n",
        "              f\"Divisao: {divisao:.2f}\",\n",
        "              f\"Potenciacao: {potenciacao}\",\n",
        "              f\"Raiz: {raiz:.2f}\",\n",
        "              f\"Resto: {resto}\")\n",
        "        break\n",
        "\n",
        "\n",
        "# while (number1 != 0) and (number2 != 0):\n",
        "#       print(f\"Soma: {soma}\", f\"Subtração: {diferenca}\", f\"Multiplicacao: {multiplicacao}\", f\"Divisao: {divisao:.2f}\",  f\"Potenciacao: {potenciacao}\",f\"Raiz: {raiz:.2f}\",f\"Resto: {resto}\" )\n",
        "#       break\n"
      ],
      "metadata": {
        "colab": {
          "base_uri": "https://localhost:8080/"
        },
        "id": "qm8dWpkzA-3q",
        "outputId": "6f32da14-c79c-4b90-a041-c2c936551abd"
      },
      "execution_count": 6,
      "outputs": [
        {
          "output_type": "stream",
          "name": "stdout",
          "text": [
            "Digite o primeiro número: 3\n",
            "Digite o segundo número: 3\n",
            "Soma: 6 Subtração: 0 Multiplicacao: 9 Divisao: 1.00 Potenciacao: 9 Raiz: 1.73 Resto: 0\n"
          ]
        }
      ]
    },
    {
      "cell_type": "markdown",
      "source": [
        "**Algoritmo 4:** Tabuada de um número (for)\n",
        "Problema: Gere e mostre a tabuada de 1 a 10 para um número fornecido pelo usuário.\n",
        " Dica: use range(1, 11) para a repetição"
      ],
      "metadata": {
        "id": "AxRg_D8EGtZf"
      }
    },
    {
      "cell_type": "code",
      "source": [
        "numero_selecionado = int(input(\"Digite o seu número da tabuada:\"))\n",
        "print(f\"\\nTabuada do {numero_selecionado}\\n\")\n",
        "for i in range(1,11):\n",
        "  conta = i*numero_selecionado\n",
        "  print(f\"{i} x {numero_selecionado} = {conta}\")"
      ],
      "metadata": {
        "colab": {
          "base_uri": "https://localhost:8080/"
        },
        "id": "2x7DHRQIGvPu",
        "outputId": "7750a2e7-f630-4273-816e-443e5cf9afce"
      },
      "execution_count": 25,
      "outputs": [
        {
          "output_type": "stream",
          "name": "stdout",
          "text": [
            "Digite o seu número da tabuada:4\n",
            "\n",
            "Tabuada do 4\n",
            "\n",
            "1 x 4 = 4\n",
            "2 x 4 = 8\n",
            "3 x 4 = 12\n",
            "4 x 4 = 16\n",
            "5 x 4 = 20\n",
            "6 x 4 = 24\n",
            "7 x 4 = 28\n",
            "8 x 4 = 32\n",
            "9 x 4 = 36\n",
            "10 x 4 = 40\n"
          ]
        }
      ]
    }
  ]
}