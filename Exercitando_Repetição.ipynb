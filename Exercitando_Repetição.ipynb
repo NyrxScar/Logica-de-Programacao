{
  "nbformat": 4,
  "nbformat_minor": 0,
  "metadata": {
    "colab": {
      "provenance": []
    },
    "kernelspec": {
      "name": "python3",
      "display_name": "Python 3"
    },
    "language_info": {
      "name": "python"
    }
  },
  "cells": [
    {
      "cell_type": "code",
      "execution_count": 43,
      "metadata": {
        "colab": {
          "base_uri": "https://localhost:8080/"
        },
        "id": "VcKRsTqpnhK4",
        "outputId": "f8a110f0-9ebf-4ab0-f108-ca07b228ae82"
      },
      "outputs": [
        {
          "output_type": "stream",
          "name": "stdout",
          "text": [
            "\n",
            "1° - O número 1 é ímpar\n",
            "2° - O número 2 é par\n",
            "\n",
            "3° - O número 3 é ímpar\n",
            "4° - O número 4 é par\n",
            "\n",
            "5° - O número 5 é ímpar\n"
          ]
        }
      ],
      "source": [
        "contador = 0\n",
        "contadorPosicao = 1\n",
        "\n",
        "while contador < 5:\n",
        "  contador+=1\n",
        "  if contador % 2 == 0:\n",
        "    print(f\"{contadorPosicao}° - O número {contador} é par\")\n",
        "  else:\n",
        "    print(f\"\\n{contadorPosicao}° - O número {contador} é ímpar\")\n",
        "  while contadorPosicao <= contador:\n",
        "    contadorPosicao+=1"
      ]
    },
    {
      "cell_type": "markdown",
      "source": [
        " **Algoritmo 1:** Repetição de Senha com Validação (while)\n",
        "Problema: Peça uma senha ao usuário e só libere o acesso quando a senha correta for\n",
        "digitada.\n",
        "Senha correta: 1234\n",
        " Dica: use while e compare a entrada com a senha correta."
      ],
      "metadata": {
        "id": "ZniX8EyE6Plw"
      }
    },
    {
      "cell_type": "code",
      "source": [
        "senha = input(\"Digite a senha:\")\n",
        "while senha != \"1234\":\n",
        "  print(\"Senha incorreta\")\n",
        "  senha = input(\"Digite a senha:\")\n",
        "print(\"Você logou com sucesso\")\n"
      ],
      "metadata": {
        "id": "Rrsy4Npc6cQm"
      },
      "execution_count": null,
      "outputs": []
    },
    {
      "cell_type": "markdown",
      "source": [
        "**Algoritmo 2:** Soma de N (número variável de vezes) produtos (for)\n",
        "Problema: Solicite a quantidade de produtos e depois peça o valor de cada um.\n",
        "Calcule o total da compra.\n",
        " Dica: use for com range() e uma variável para acumular os valores digitados"
      ],
      "metadata": {
        "id": "sSJoZqZL96IZ"
      }
    },
    {
      "cell_type": "code",
      "source": [
        "\n",
        "qnt_produtos = int(input(\"Digite a quantidade de Produtos: \"))\n",
        "posicao = 0\n",
        "soma = float(0)\n",
        "valor_produtos = []\n",
        "for i in range(qnt_produtos):\n",
        "    posicao+=1\n",
        "    valor_produtos = float(input(\"Digite o Valor do Produto: \"))\n",
        "    print(f\"{posicao}° Produto -  R$ {valor_produtos:.2f}\")\n",
        "    soma += valor_produtos\n",
        "\n",
        "while i <= qnt_produtos:\n",
        "    print(f\"O total do valor dos produtos é: {soma:.2f}\")\n",
        "    break\n",
        "\n"
      ],
      "metadata": {
        "colab": {
          "base_uri": "https://localhost:8080/"
        },
        "id": "CXCiG2Gw99l4",
        "outputId": "9f908be8-8dde-41d8-e050-7578fa114b6c"
      },
      "execution_count": 102,
      "outputs": [
        {
          "output_type": "stream",
          "name": "stdout",
          "text": [
            "Digite a quantidade de Produtos: 2\n",
            "Digite o Valor do Produto: 12\n",
            "1° Produto -  R$ 12.00\n",
            "Digite o Valor do Produto: 3.3123\n",
            "2° Produto -  R$ 3.31\n",
            "O total do valor dos produtos é: 15.31\n"
          ]
        }
      ]
    },
    {
      "cell_type": "markdown",
      "source": [
        "**Algoritmo 3:** Cálculos matemáticos (while)\n",
        "Problema: dois valores devem ser digitados um número indefinido de vezes. Parar a execução quando pelo menos um dos números digitados for igual a zero.\n",
        "A cada vez que a repetição é executada, calcular e escrever na tela as operações abaixo:\n",
        "  \n",
        "*   Soma dos dois números;\n",
        "*   Diferença entre os dois números;\n",
        "*   Multiplicação entre os dois números;\n",
        "*   Divisão do primeiro número pelo segundo;\n",
        "*   Potenciação, sendo o primeiro a base e o segundo a potência;\n",
        "*   Raiz quadrada do primeiro número; resto da divisão do primeiro pelo  segundo número; E se o primeiro número é divisível pelo segundo\n",
        "\n",
        " Dica: use while para repetir e validar se pelo menos um dos números for igual a zero"
      ],
      "metadata": {
        "id": "SFsqA2Y5A3lb"
      }
    },
    {
      "cell_type": "code",
      "source": [
        "import math\n",
        "\n",
        "number1 = float(input(\"Digite o primeiro valor: \"))\n",
        "number2 = float(input(\"Digite o segundo valor: \"))\n",
        "soma = number1+number2\n",
        "diferenca = number1-number2\n",
        "multiplicacao = number1*number2\n",
        "divisao = number1/number2\n",
        "potenciacao = number1**number2\n",
        "raiz = math.sqrt(number1)\n",
        "resto = number1 % number2\n",
        "\n",
        "while (number1 != 0 and number2 != 0):\n",
        "    if (number1 or number2) == 0:\n",
        "      print(\"Pelo menos um dos números é 0\")\n",
        "    else:\n",
        "      print(f\"Soma: {soma}\", f\"Subtração: {diferenca}\", f\"Multiplicacao: {multiplicacao}\", f\"Divisao: {divisao:.2f}\",  f\"Potenciacao: {potenciacao}\",f\"Raiz: {raiz:.2f}\",f\"Resto: {resto}\" )\n",
        "      break"
      ],
      "metadata": {
        "colab": {
          "base_uri": "https://localhost:8080/",
          "height": 245
        },
        "id": "qm8dWpkzA-3q",
        "outputId": "7cfe12ba-d2ea-4d8d-8cb5-b6fd56e19021"
      },
      "execution_count": 123,
      "outputs": [
        {
          "name": "stdout",
          "output_type": "stream",
          "text": [
            "Digite o primeiro valor: 0\n",
            "Digite o segundo valor: 0\n"
          ]
        },
        {
          "output_type": "error",
          "ename": "ZeroDivisionError",
          "evalue": "float division by zero",
          "traceback": [
            "\u001b[0;31m---------------------------------------------------------------------------\u001b[0m",
            "\u001b[0;31mZeroDivisionError\u001b[0m                         Traceback (most recent call last)",
            "\u001b[0;32m/tmp/ipython-input-2002343959.py\u001b[0m in \u001b[0;36m<cell line: 0>\u001b[0;34m()\u001b[0m\n\u001b[1;32m      6\u001b[0m \u001b[0mdiferenca\u001b[0m \u001b[0;34m=\u001b[0m \u001b[0mnumber1\u001b[0m\u001b[0;34m-\u001b[0m\u001b[0mnumber2\u001b[0m\u001b[0;34m\u001b[0m\u001b[0;34m\u001b[0m\u001b[0m\n\u001b[1;32m      7\u001b[0m \u001b[0mmultiplicacao\u001b[0m \u001b[0;34m=\u001b[0m \u001b[0mnumber1\u001b[0m\u001b[0;34m*\u001b[0m\u001b[0mnumber2\u001b[0m\u001b[0;34m\u001b[0m\u001b[0;34m\u001b[0m\u001b[0m\n\u001b[0;32m----> 8\u001b[0;31m \u001b[0mdivisao\u001b[0m \u001b[0;34m=\u001b[0m \u001b[0mnumber1\u001b[0m\u001b[0;34m/\u001b[0m\u001b[0mnumber2\u001b[0m\u001b[0;34m\u001b[0m\u001b[0;34m\u001b[0m\u001b[0m\n\u001b[0m\u001b[1;32m      9\u001b[0m \u001b[0mpotenciacao\u001b[0m \u001b[0;34m=\u001b[0m \u001b[0mnumber1\u001b[0m\u001b[0;34m**\u001b[0m\u001b[0mnumber2\u001b[0m\u001b[0;34m\u001b[0m\u001b[0;34m\u001b[0m\u001b[0m\n\u001b[1;32m     10\u001b[0m \u001b[0mraiz\u001b[0m \u001b[0;34m=\u001b[0m \u001b[0mmath\u001b[0m\u001b[0;34m.\u001b[0m\u001b[0msqrt\u001b[0m\u001b[0;34m(\u001b[0m\u001b[0mnumber1\u001b[0m\u001b[0;34m)\u001b[0m\u001b[0;34m\u001b[0m\u001b[0;34m\u001b[0m\u001b[0m\n",
            "\u001b[0;31mZeroDivisionError\u001b[0m: float division by zero"
          ]
        }
      ]
    }
  ]
}